{
 "cells": [
  {
   "cell_type": "code",
   "execution_count": 1,
   "id": "598ef7eb-8877-4586-a7f1-add8de665038",
   "metadata": {},
   "outputs": [
    {
     "name": "stdout",
     "output_type": "stream",
     "text": [
      "1\n",
      "2\n",
      "3\n"
     ]
    }
   ],
   "source": [
    "print 1\n",
    "echo 2\n",
    "<<< 3"
   ]
  },
  {
   "cell_type": "code",
   "execution_count": 2,
   "id": "eb3060f6-21aa-4947-94de-233fef1481ea",
   "metadata": {},
   "outputs": [
    {
     "name": "stdout",
     "output_type": "stream",
     "text": [
      "example.ipynb  sandbox.zsh.ipynb\n"
     ]
    }
   ],
   "source": [
    "ls"
   ]
  },
  {
   "cell_type": "code",
   "execution_count": null,
   "id": "ba302c08-17ba-4863-a97d-3bc8236a4f83",
   "metadata": {},
   "outputs": [],
   "source": []
  }
 ],
 "metadata": {
  "kernelspec": {
   "display_name": "Z shell (dev)",
   "language": "zsh",
   "name": "zsh-dev"
  },
  "language_info": {
   "codemirror_mode": "shell",
   "file_extension": ".zsh",
   "mimetype": "text/x-zsh",
   "name": "zsh",
   "pygments_lexer": "shell",
   "version": "5.7.1"
  }
 },
 "nbformat": 4,
 "nbformat_minor": 5
}
