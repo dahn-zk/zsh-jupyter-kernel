{
 "cells": [
  {
   "cell_type": "code",
   "execution_count": 1,
   "metadata": {},
   "outputs": [
    {
     "name": "stdout",
     "output_type": "stream",
     "text": [
      "    ___     _          ___               _       ____  ___  \n",
      "   / / |__ (_)_ __    / / |__   __ _ ___| |__   | ___|/ _ \\ \n",
      "  / /| '_ \\| | '_ \\  / /| '_ \\ / _` / __| '_ \\  |___ \\ (_) |\n",
      " / / | |_) | | | | |/ / | |_) | (_| \\__ \\ | | |  ___) \\__, |\n",
      "/_/  |_.__/|_|_| |_/_/  |_.__/ \\__,_|___/_| |_| |____(_)/_/ \n",
      "                                                            \n"
     ]
    }
   ],
   "source": [
    "figlet $SHELL $ZSH_VERSION"
   ]
  },
  {
   "cell_type": "code",
   "execution_count": 2,
   "metadata": {},
   "outputs": [
    {
     "name": "stdout",
     "output_type": "stream",
     "text": [
      "--------------------------------------------------------------------------------\n"
     ]
    }
   ],
   "source": [
    "function hr { printf \"%-*s\\n\" $(tput cols) | tr ' ' '-' }\n",
    "hr"
   ]
  },
  {
   "cell_type": "code",
   "execution_count": 3,
   "metadata": {},
   "outputs": [
    {
     "name": "stdout",
     "output_type": "stream",
     "text": [
      "\u001b[33m47817e2\u001b[m\u001b[33m (\u001b[m\u001b[1;36mHEAD\u001b[m\u001b[33m -> \u001b[m\u001b[1;32mmaster\u001b[m\u001b[33m)\u001b[m major cleanup\n",
      "\u001b[33m3a49d9c\u001b[m minor reformat refactor\n",
      "\u001b[33m1bb6fe6\u001b[m\u001b[33m (\u001b[m\u001b[1;31morigin/master\u001b[m\u001b[33m, \u001b[m\u001b[1;31morigin/HEAD\u001b[m\u001b[33m)\u001b[m Fix bug on copying logo files\n",
      "--------------------------------------------------------------------------------\n",
      " \u001b[31mM\u001b[m ../.gitignore\n",
      " \u001b[31mM\u001b[m ../CONTRIBUTING.md\n",
      " \u001b[31mM\u001b[m ../Pipfile.lock\n",
      " \u001b[31mM\u001b[m ../README.md\n",
      "\u001b[32mR\u001b[m  ../build-publish.md -> ../docs/build-install-publish.md\n",
      "\u001b[32mA\u001b[m\u001b[31mM\u001b[m ../docs/readme.md\n",
      "\u001b[32mR\u001b[m\u001b[31mM\u001b[m ../todo.md -> ../docs/todo.md\n",
      " \u001b[31mD\u001b[m ../example.ipynb\n",
      " \u001b[31mM\u001b[m ../pyproject.toml\n",
      " \u001b[31mD\u001b[m ../tests/sandbox.zsh.ipynb\n",
      " \u001b[31mM\u001b[m ../tests/zsh_kernel_test.py\n",
      " \u001b[31mM\u001b[m ../tools/install-pipenv.sh\n",
      "\u001b[32mD\u001b[m  ../zsh_jupyter_kernel/LICENSE.txt\n",
      "\u001b[32mD\u001b[m  ../zsh_jupyter_kernel/README.md\n",
      " \u001b[31mM\u001b[m ../zsh_jupyter_kernel/__init__.py\n",
      " \u001b[31mM\u001b[m ../zsh_jupyter_kernel/config.py\n",
      " \u001b[31mM\u001b[m ../zsh_jupyter_kernel/fun.py\n",
      " \u001b[31mM\u001b[m ../zsh_jupyter_kernel/install.py\n",
      " \u001b[31mM\u001b[m ../zsh_jupyter_kernel/kernel.py\n",
      " \u001b[31mM\u001b[m ../zsh_jupyter_kernel/reference.md\n",
      "\u001b[32mD\u001b[m  ../zsh_jupyter_kernel/version\n",
      "\u001b[32mA\u001b[m\u001b[31mM\u001b[m ../zsh_jupyter_kernel/version.txt\n",
      "\u001b[31m??\u001b[m ./\n",
      "--------------------------------------------------------------------------------\n",
      "\u001b[1;33mexample.ipynb\u001b[0m  \u001b[1;33msandbox.zsh.ipynb\u001b[0m\n"
     ]
    }
   ],
   "source": [
    "git --no-pager log --oneline ...HEAD~3\n",
    "hr\n",
    "git status --short\n",
    "hr\n",
    "git ls-files src/zsh_jupyter_kernel | xargs exa"
   ]
  },
  {
   "cell_type": "code",
   "execution_count": 4,
   "metadata": {
    "tags": []
   },
   "outputs": [
    {
     "name": "stdout",
     "output_type": "stream",
     "text": [
      "Weather report: Chernivtsi\n",
      "\n",
      "  \u001b[38;5;226m    \\   /    \u001b[0m Sunny\n",
      "  \u001b[38;5;226m     .-.     \u001b[0m \u001b[38;5;049m+3\u001b[0m(\u001b[38;5;049m2\u001b[0m) °C\u001b[0m       \n",
      "  \u001b[38;5;226m  ― (   ) ―  \u001b[0m \u001b[1m↗\u001b[0m \u001b[38;5;118m4\u001b[0m km/h\u001b[0m       \n",
      "  \u001b[38;5;226m     `-’     \u001b[0m 10 km\u001b[0m          \n",
      "  \u001b[38;5;226m    /   \\    \u001b[0m 0.0 mm\u001b[0m         \n"
     ]
    }
   ],
   "source": [
    "curl -s wttr.in/Chernivtsi | head -7"
   ]
  },
  {
   "cell_type": "code",
   "execution_count": null,
   "metadata": {},
   "outputs": [],
   "source": []
  }
 ],
 "metadata": {
  "kernelspec": {
   "display_name": "Z shell (dev)",
   "language": "zsh",
   "name": "zsh-dev"
  },
  "language_info": {
   "codemirror_mode": "shell",
   "file_extension": ".zsh",
   "mimetype": "text/x-zsh",
   "name": "zsh",
   "pygments_lexer": "shell",
   "version": "5.7.1"
  }
 },
 "nbformat": 4,
 "nbformat_minor": 4
}
